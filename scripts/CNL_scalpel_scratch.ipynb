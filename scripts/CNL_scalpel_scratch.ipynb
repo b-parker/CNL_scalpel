{
 "cells": [
  {
   "cell_type": "code",
   "execution_count": 6,
   "metadata": {},
   "outputs": [],
   "source": [
    "from pathlib import Path\n",
    "import os\n",
    "import pandas as pd\n",
    "import numpy as np\n",
    "import nibabel as nb\n",
    "\n",
    "from nibabel.freesurfer.io import read_annot, read_label, read_morph_data\n",
    "\n",
    "import cortex\n",
    "import src.mesh_laplace_sulci\n",
    "\n"
   ]
  },
  {
   "cell_type": "code",
   "execution_count": 7,
   "metadata": {},
   "outputs": [],
   "source": [
    "## Test cortex, loads browser page\n",
    "# cortex.webshow(cortex.Volume.random(\"S1\", \"fullhead\"))"
   ]
  },
  {
   "cell_type": "code",
   "execution_count": 8,
   "metadata": {},
   "outputs": [
    {
     "name": "stdout",
     "output_type": "stream",
     "text": [
      "b'created by HCPpipeline on Sat Mar 29 07:29:03 2014\\n'\n",
      "b'created by HCPpipeline on Sat Mar 29 11:09:10 2014\\n'\n",
      "b'created by HCPpipeline on Sat Mar 29 08:29:29 2014\\n'\n",
      "b'created by HCPpipeline on Sat Mar 29 11:09:14 2014\\n'\n"
     ]
    },
    {
     "ename": "FileNotFoundError",
     "evalue": "No such file or no access: '/Users/benparker/miniconda3/envs/CNL_scalpel/share/pycortex/db/100307/anatomicals/raw_wm.nii.gz'",
     "output_type": "error",
     "traceback": [
      "\u001b[0;31m---------------------------------------------------------------------------\u001b[0m",
      "\u001b[0;31mFileNotFoundError\u001b[0m                         Traceback (most recent call last)",
      "File \u001b[0;32m~/miniconda3/envs/CNL_scalpel/lib/python3.11/site-packages/nibabel/loadsave.py:87\u001b[0m, in \u001b[0;36mload\u001b[0;34m(filename, **kwargs)\u001b[0m\n\u001b[1;32m     86\u001b[0m \u001b[39mtry\u001b[39;00m:\n\u001b[0;32m---> 87\u001b[0m     stat_result \u001b[39m=\u001b[39m os\u001b[39m.\u001b[39;49mstat(filename)\n\u001b[1;32m     88\u001b[0m \u001b[39mexcept\u001b[39;00m \u001b[39mOSError\u001b[39;00m:\n",
      "\u001b[0;31mFileNotFoundError\u001b[0m: [Errno 2] No such file or directory: '/Users/benparker/miniconda3/envs/CNL_scalpel/share/pycortex/db/100307/anatomicals/raw_wm.nii.gz'",
      "\nDuring handling of the above exception, another exception occurred:\n",
      "\u001b[0;31mFileNotFoundError\u001b[0m                         Traceback (most recent call last)",
      "Cell \u001b[0;32mIn[8], line 12\u001b[0m\n\u001b[1;32m      9\u001b[0m annot_verts, annot_ctab, annot_names \u001b[39m=\u001b[39m read_annot(subjects_dir \u001b[39m/\u001b[39m \u001b[39m'\u001b[39m\u001b[39m100307/label/rh.aparc.a2009s.annot\u001b[39m\u001b[39m'\u001b[39m)\n\u001b[1;32m     11\u001b[0m \u001b[39m# import test subject to pycortex db\u001b[39;00m\n\u001b[0;32m---> 12\u001b[0m cortex\u001b[39m.\u001b[39;49mfreesurfer\u001b[39m.\u001b[39;49mimport_subj(\u001b[39m'\u001b[39;49m\u001b[39m100307\u001b[39;49m\u001b[39m'\u001b[39;49m, freesurfer_subject_dir\u001b[39m=\u001b[39;49msubjects_dir_str)\n",
      "File \u001b[0;32m~/miniconda3/envs/CNL_scalpel/lib/python3.11/site-packages/cortex/freesurfer.py:197\u001b[0m, in \u001b[0;36mimport_subj\u001b[0;34m(fs_subject, cx_subject, freesurfer_subject_dir, whitematter_surf)\u001b[0m\n\u001b[1;32m    193\u001b[0m make_fiducial(fs_subject, freesurfer_subject_dir\u001b[39m=\u001b[39mfreesurfer_subject_dir)\n\u001b[1;32m    195\u001b[0m \u001b[39m# Freesurfer uses FOV/2 for center, let's set the surfaces to use the\u001b[39;00m\n\u001b[1;32m    196\u001b[0m \u001b[39m# magnet isocenter\u001b[39;00m\n\u001b[0;32m--> 197\u001b[0m trans \u001b[39m=\u001b[39m nibabel\u001b[39m.\u001b[39;49mload(out)\u001b[39m.\u001b[39mget_affine()[:\u001b[39m3\u001b[39m, \u001b[39m-\u001b[39m\u001b[39m1\u001b[39m]\n\u001b[1;32m    198\u001b[0m surfmove \u001b[39m=\u001b[39m trans \u001b[39m-\u001b[39m np\u001b[39m.\u001b[39msign(trans) \u001b[39m*\u001b[39m [\u001b[39m128\u001b[39m, \u001b[39m128\u001b[39m, \u001b[39m128\u001b[39m]\n\u001b[1;32m    200\u001b[0m \u001b[39mfrom\u001b[39;00m \u001b[39m.\u001b[39;00m \u001b[39mimport\u001b[39;00m formats\n",
      "File \u001b[0;32m~/miniconda3/envs/CNL_scalpel/lib/python3.11/site-packages/nibabel/loadsave.py:89\u001b[0m, in \u001b[0;36mload\u001b[0;34m(filename, **kwargs)\u001b[0m\n\u001b[1;32m     87\u001b[0m     stat_result \u001b[39m=\u001b[39m os\u001b[39m.\u001b[39mstat(filename)\n\u001b[1;32m     88\u001b[0m \u001b[39mexcept\u001b[39;00m \u001b[39mOSError\u001b[39;00m:\n\u001b[0;32m---> 89\u001b[0m     \u001b[39mraise\u001b[39;00m \u001b[39mFileNotFoundError\u001b[39;00m(\u001b[39mf\u001b[39m\u001b[39m\"\u001b[39m\u001b[39mNo such file or no access: \u001b[39m\u001b[39m'\u001b[39m\u001b[39m{\u001b[39;00mfilename\u001b[39m}\u001b[39;00m\u001b[39m'\u001b[39m\u001b[39m\"\u001b[39m)\n\u001b[1;32m     90\u001b[0m \u001b[39mif\u001b[39;00m stat_result\u001b[39m.\u001b[39mst_size \u001b[39m<\u001b[39m\u001b[39m=\u001b[39m \u001b[39m0\u001b[39m:\n\u001b[1;32m     91\u001b[0m     \u001b[39mraise\u001b[39;00m ImageFileError(\u001b[39mf\u001b[39m\u001b[39m\"\u001b[39m\u001b[39mEmpty file: \u001b[39m\u001b[39m'\u001b[39m\u001b[39m{\u001b[39;00mfilename\u001b[39m}\u001b[39;00m\u001b[39m'\u001b[39m\u001b[39m\"\u001b[39m)\n",
      "\u001b[0;31mFileNotFoundError\u001b[0m: No such file or no access: '/Users/benparker/miniconda3/envs/CNL_scalpel/share/pycortex/db/100307/anatomicals/raw_wm.nii.gz'"
     ]
    }
   ],
   "source": [
    "## Load subject\n",
    "\n",
    "project_dir = Path('/Users/benparker/Desktop/cnl/PCC_Q/results/slicer')\n",
    "os.environ['SUBJECTS_DIR'] = '/Users/benparker/Desktop/cnl/subjects'\n",
    "subjects_dir = Path('/Users/benparker/Desktop/cnl/subjects')\n",
    "subjects_dir_str = '/Users/benparker/Desktop/cnl/subjects'\n",
    "\n",
    "## read_annot returns [0] labels at each vertex, -1 for no id [1]: ctab [2]: label names \n",
    "annot_verts, annot_ctab, annot_names = read_annot(subjects_dir / '100307/label/rh.aparc.a2009s.annot')\n",
    "\n",
    "# import test subject to pycortex db\n",
    "cortex.freesurfer.import_subj('100307', freesurfer_subject_dir=subjects_dir_str)\n",
    "\n"
   ]
  },
  {
   "cell_type": "code",
   "execution_count": null,
   "metadata": {},
   "outputs": [],
   "source": [
    "## Load labels for boundary sulci\n",
    "#### how to draw the exact numerical boundaries\n"
   ]
  },
  {
   "cell_type": "code",
   "execution_count": null,
   "metadata": {},
   "outputs": [],
   "source": [
    "## split FC map by boundary sulci\n",
    "\n",
    "##### ID vertices within boundary by [0] from read annot"
   ]
  }
 ],
 "metadata": {
  "kernelspec": {
   "display_name": "CNL_scalpel",
   "language": "python",
   "name": "python3"
  },
  "language_info": {
   "codemirror_mode": {
    "name": "ipython",
    "version": 3
   },
   "file_extension": ".py",
   "mimetype": "text/x-python",
   "name": "python",
   "nbconvert_exporter": "python",
   "pygments_lexer": "ipython3",
   "version": "3.11.0"
  },
  "orig_nbformat": 4,
  "vscode": {
   "interpreter": {
    "hash": "85237503558c09331aed7fcb1fad3b59e1b17000332e9bbf75d24df0a9c09c3c"
   }
  }
 },
 "nbformat": 4,
 "nbformat_minor": 2
}
