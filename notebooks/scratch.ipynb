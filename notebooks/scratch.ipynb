version https://git-lfs.github.com/spec/v1
oid sha256:4eeb769b52a60dcc477d9772f70a03165539f1382199df7f0328202c2dad81cd
size 1715
