version https://git-lfs.github.com/spec/v1
oid sha256:c60ac28926db514f04493f28b431d9ac1c8fb12d5f7292ddb947861245c609c1
size 327265
