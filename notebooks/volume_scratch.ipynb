version https://git-lfs.github.com/spec/v1
oid sha256:ff2249a57bceb8ea4f730e865902e2c7ad21027b2d7044a0af0182740ea43ec4
size 3282177
