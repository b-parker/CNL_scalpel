version https://git-lfs.github.com/spec/v1
oid sha256:1af0cd817dd3400bfb00111a095480b932767e18617966a0b60d2225ec18d7cc
size 171938550
